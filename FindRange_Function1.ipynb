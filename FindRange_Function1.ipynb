{
 "cells": [
  {
   "cell_type": "code",
   "execution_count": 1,
   "metadata": {},
   "outputs": [],
   "source": [
    "import numpy as np\n",
    "import pandas as pd\n",
    "import matplotlib.pyplot as plt\n",
    "from os import listdir\n",
    "import os\n",
    "from librosa import display,util,load,feature"
   ]
  },
  {
   "cell_type": "code",
   "execution_count": 14,
   "metadata": {},
   "outputs": [
    {
     "name": "stdout",
     "output_type": "stream",
     "text": [
      "//Mac/Home/Downloads/VoiceSamples/Manila/Elle Genovata\n"
     ]
    }
   ],
   "source": [
    "#media_dir_path  = \"C:/Users/rujut/Desktop/Sleigh Group/Australia/Australia/Adrienne O'Connor\"\n",
    "\n",
    "media_dir_path  = \"//Mac/Home/Downloads/VoiceSamples/Manila/Elle Genovata\"\n",
    "\n",
    "print(media_dir_path)"
   ]
  },
  {
   "cell_type": "code",
   "execution_count": 3,
   "metadata": {},
   "outputs": [
    {
     "name": "stdout",
     "output_type": "stream",
     "text": [
      "['Raine Natural.wav']\n"
     ]
    }
   ],
   "source": [
    "media_files = listdir(media_dir_path)\n",
    "print(media_files)"
   ]
  },
  {
   "cell_type": "code",
   "execution_count": 4,
   "metadata": {},
   "outputs": [
    {
     "data": {
      "text/html": [
       "<div>\n",
       "<style scoped>\n",
       "    .dataframe tbody tr th:only-of-type {\n",
       "        vertical-align: middle;\n",
       "    }\n",
       "\n",
       "    .dataframe tbody tr th {\n",
       "        vertical-align: top;\n",
       "    }\n",
       "\n",
       "    .dataframe thead th {\n",
       "        text-align: right;\n",
       "    }\n",
       "</style>\n",
       "<table border=\"1\" class=\"dataframe\">\n",
       "  <thead>\n",
       "    <tr style=\"text-align: right;\">\n",
       "      <th></th>\n",
       "      <th>FrequencyRange</th>\n",
       "      <th>Low</th>\n",
       "      <th>High</th>\n",
       "    </tr>\n",
       "  </thead>\n",
       "  <tbody>\n",
       "    <tr>\n",
       "      <th>0</th>\n",
       "      <td>Sub-bass</td>\n",
       "      <td>20</td>\n",
       "      <td>60</td>\n",
       "    </tr>\n",
       "    <tr>\n",
       "      <th>1</th>\n",
       "      <td>Bass</td>\n",
       "      <td>60</td>\n",
       "      <td>250</td>\n",
       "    </tr>\n",
       "    <tr>\n",
       "      <th>2</th>\n",
       "      <td>Low midrange</td>\n",
       "      <td>250</td>\n",
       "      <td>500</td>\n",
       "    </tr>\n",
       "    <tr>\n",
       "      <th>3</th>\n",
       "      <td>Midrange</td>\n",
       "      <td>500</td>\n",
       "      <td>2000</td>\n",
       "    </tr>\n",
       "    <tr>\n",
       "      <th>4</th>\n",
       "      <td>Upper midrange</td>\n",
       "      <td>2000</td>\n",
       "      <td>4000</td>\n",
       "    </tr>\n",
       "    <tr>\n",
       "      <th>5</th>\n",
       "      <td>Prescent</td>\n",
       "      <td>4000</td>\n",
       "      <td>6000</td>\n",
       "    </tr>\n",
       "    <tr>\n",
       "      <th>6</th>\n",
       "      <td>Brilliance</td>\n",
       "      <td>6000</td>\n",
       "      <td>20000</td>\n",
       "    </tr>\n",
       "  </tbody>\n",
       "</table>\n",
       "</div>"
      ],
      "text/plain": [
       "   FrequencyRange   Low   High\n",
       "0        Sub-bass    20     60\n",
       "1            Bass    60    250\n",
       "2    Low midrange   250    500\n",
       "3        Midrange   500   2000\n",
       "4  Upper midrange  2000   4000\n",
       "5        Prescent  4000   6000\n",
       "6      Brilliance  6000  20000"
      ]
     },
     "execution_count": 4,
     "metadata": {},
     "output_type": "execute_result"
    }
   ],
   "source": [
    "frequency_range_file = 'FrequencyRange.csv'\n",
    "freq_ref= pd.read_csv(frequency_range_file)\n",
    "freq_ref"
   ]
  },
  {
   "cell_type": "code",
   "execution_count": 5,
   "metadata": {},
   "outputs": [],
   "source": [
    "def _lookup_req_range(mean_cent, max_cent, freq_ref):\n",
    "    mean_range_desc = ''\n",
    "    max_range_desc = ''\n",
    "\n",
    "    for i in range(0,len(freq_ref)):\n",
    "        if i == 0:\n",
    "            if freq_ref.iloc[i]['High'].astype(float) > mean_cent:\n",
    "                mean_range_desc = freq_ref.iloc[i]['FrequencyRange']\n",
    "        elif i == len(freq_ref) - 1:\n",
    "            if freq_ref.iloc[i]['Low'].astype(float) <= max_cent:     \n",
    "                max_range_desc = freq_ref.iloc[i]['FrequencyRange']\n",
    "        else:\n",
    "            if freq_ref.iloc[i]['Low'].astype(float) <= mean_cent and freq_ref.iloc[i]['High'].astype(float) > mean_cent:\n",
    "                mean_range_desc = freq_ref.iloc[i]['FrequencyRange']\n",
    "    \n",
    "    for j in range(0,len(freq_ref)):\n",
    "        if j == 0: \n",
    "            if freq_ref.iloc[j]['High'].astype(float) > mean_cent:\n",
    "                max_range_desc = freq_ref.iloc[i]['FrequencyRange']\n",
    "        elif j== len(freq_ref) - 1:\n",
    "            if freq_ref.iloc[j]['Low'].astype(float) <= max_cent:     \n",
    "                max_range_desc = freq_ref.iloc[j]['FrequencyRange']\n",
    "        else:\n",
    "            if freq_ref.iloc[j]['Low'].astype(float) <= max_cent and freq_ref.iloc[j]['High'].astype(float) > max_cent:\n",
    "                max_range_desc = freq_ref.iloc[j]['FrequencyRange']\n",
    "    \n",
    "    freq_range_list = [mean_range_desc, max_range_desc]\n",
    "\n",
    "    return freq_range_list"
   ]
  },
  {
   "cell_type": "code",
   "execution_count": 6,
   "metadata": {},
   "outputs": [],
   "source": [
    "def _find_features(media_dir_path, freq_ref):\n",
    "    files = util.find_files(media_dir_path, ext=['wav'])\n",
    "    \n",
    "    # Create properties dataframe\n",
    "    col_name = ['file_name','chroma_stft','spec_cent','spec_bw','rolloff','zcr','mfcc','spec_cent_max']\n",
    "    sample_dataset = pd.DataFrame(columns = col_name)\n",
    "    \n",
    "    for y in files:\n",
    "        librosa_load, librosa_sampling_rate = load(y) \n",
    "        stft = feature.chroma_stft(y=librosa_load, sr=librosa_sampling_rate)\n",
    "        spec_cent = feature.spectral_centroid(y=librosa_load, sr=librosa_sampling_rate)\n",
    "        spec_bw = feature.spectral_bandwidth(y=librosa_load, sr=librosa_sampling_rate)\n",
    "        rolloff = feature.spectral_rolloff(y=librosa_load, sr=librosa_sampling_rate)\n",
    "        zcr = feature.zero_crossing_rate(librosa_load)\n",
    "        mfcc = feature.mfcc(y=librosa_load, sr=librosa_sampling_rate)\n",
    "      \n",
    "        chroma_stft_mean = np.mean(stft)\n",
    "        spec_cent_mean = np.mean(spec_cent)\n",
    "        spec_bw_mean = np.mean(spec_bw)\n",
    "        rolloff_mean = np.mean(rolloff)\n",
    "        zcr_mean = np.mean(zcr)\n",
    "        mfcc_mean = np.mean(mfcc)\n",
    "        spec_cent_max = np.max(spec_cent)\n",
    "        \n",
    "        feature_dict = { 'file_name': y,\n",
    "                         'chroma_stft': chroma_stft_mean, \n",
    "                         'spec_cent': spec_cent_mean, \n",
    "                         'spec_bw': spec_bw_mean,\n",
    "                         'rolloff': rolloff_mean,\n",
    "                         'zcr': zcr_mean,\n",
    "                         'mfcc': mfcc_mean,\n",
    "                         'spec_cent_max':spec_cent_max\n",
    "                        }\n",
    " \n",
    "        sample_dataset = sample_dataset.append(feature_dict, ignore_index = True)\n",
    "    \n",
    "    sample_dataset.reset_index(inplace=True, drop = True)\n",
    "    mean_cent = sample_dataset[\"spec_cent\"].mean()\n",
    "    max_cent = sample_dataset[\"spec_cent_max\"].max()\n",
    "    range_list = _lookup_req_range(mean_cent, max_cent, freq_ref)\n",
    "    \n",
    "    return range_list,sample_dataset"
   ]
  },
  {
   "cell_type": "code",
   "execution_count": 15,
   "metadata": {},
   "outputs": [
    {
     "data": {
      "text/plain": [
       "['Upper midrange', 'Brilliance']"
      ]
     },
     "execution_count": 15,
     "metadata": {},
     "output_type": "execute_result"
    }
   ],
   "source": [
    "range_list, sample_dataset = _find_features(media_dir_path,freq_ref)\n",
    "range_list"
   ]
  },
  {
   "cell_type": "code",
   "execution_count": 16,
   "metadata": {},
   "outputs": [
    {
     "data": {
      "text/html": [
       "<div>\n",
       "<style scoped>\n",
       "    .dataframe tbody tr th:only-of-type {\n",
       "        vertical-align: middle;\n",
       "    }\n",
       "\n",
       "    .dataframe tbody tr th {\n",
       "        vertical-align: top;\n",
       "    }\n",
       "\n",
       "    .dataframe thead th {\n",
       "        text-align: right;\n",
       "    }\n",
       "</style>\n",
       "<table border=\"1\" class=\"dataframe\">\n",
       "  <thead>\n",
       "    <tr style=\"text-align: right;\">\n",
       "      <th></th>\n",
       "      <th>file_name</th>\n",
       "      <th>chroma_stft</th>\n",
       "      <th>spec_cent</th>\n",
       "      <th>spec_bw</th>\n",
       "      <th>rolloff</th>\n",
       "      <th>zcr</th>\n",
       "      <th>mfcc</th>\n",
       "      <th>spec_cent_max</th>\n",
       "    </tr>\n",
       "  </thead>\n",
       "  <tbody>\n",
       "    <tr>\n",
       "      <th>0</th>\n",
       "      <td>\\\\Mac\\Home\\Downloads\\VoiceSamples\\Manila\\Elle ...</td>\n",
       "      <td>0.287064</td>\n",
       "      <td>2016.209826</td>\n",
       "      <td>2115.573854</td>\n",
       "      <td>3735.152535</td>\n",
       "      <td>0.086932</td>\n",
       "      <td>-19.76239</td>\n",
       "      <td>8269.825002</td>\n",
       "    </tr>\n",
       "  </tbody>\n",
       "</table>\n",
       "</div>"
      ],
      "text/plain": [
       "                                           file_name  chroma_stft  \\\n",
       "0  \\\\Mac\\Home\\Downloads\\VoiceSamples\\Manila\\Elle ...     0.287064   \n",
       "\n",
       "     spec_cent      spec_bw      rolloff       zcr      mfcc  spec_cent_max  \n",
       "0  2016.209826  2115.573854  3735.152535  0.086932 -19.76239    8269.825002  "
      ]
     },
     "execution_count": 16,
     "metadata": {},
     "output_type": "execute_result"
    }
   ],
   "source": [
    "sample_dataset"
   ]
  },
  {
   "cell_type": "code",
   "execution_count": null,
   "metadata": {},
   "outputs": [],
   "source": []
  }
 ],
 "metadata": {
  "kernelspec": {
   "display_name": "Python 3",
   "language": "python",
   "name": "python3"
  },
  "language_info": {
   "codemirror_mode": {
    "name": "ipython",
    "version": 3
   },
   "file_extension": ".py",
   "mimetype": "text/x-python",
   "name": "python",
   "nbconvert_exporter": "python",
   "pygments_lexer": "ipython3",
   "version": "3.6.10"
  }
 },
 "nbformat": 4,
 "nbformat_minor": 4
}
