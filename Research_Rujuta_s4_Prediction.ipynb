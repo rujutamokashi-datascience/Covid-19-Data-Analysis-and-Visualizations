{
 "cells": [
  {
   "cell_type": "code",
   "execution_count": 1,
   "metadata": {},
   "outputs": [],
   "source": [
    "import numpy as np\n",
    "import pandas as pd\n",
    "import matplotlib.pyplot as plt\n",
    "from os import listdir\n",
    "import os\n",
    "import sys\n",
    "from librosa import display,util,load,feature\n",
    "import librosa"
   ]
  },
  {
   "cell_type": "code",
   "execution_count": 2,
   "metadata": {},
   "outputs": [],
   "source": [
    "%matplotlib inline"
   ]
  },
  {
   "cell_type": "code",
   "execution_count": 3,
   "metadata": {},
   "outputs": [],
   "source": [
    "# Import different models \n",
    "import keras\n",
    "from keras.models import model_from_json\n",
    "import numpy\n",
    "import os\n",
    "import json"
   ]
  },
  {
   "cell_type": "code",
   "execution_count": 4,
   "metadata": {},
   "outputs": [],
   "source": [
    "def _extract_feat(audiofile_path):\n",
    "    # load in audio file\n",
    "    y, sr = load(audiofile_path) # y = audio file, sr = sample rate\n",
    "\n",
    "    # extract the various features of the audio\n",
    "    mfcc = np.mean(feature.mfcc(y = y, sr = sr, n_mfcc=40).T, axis = 0)  \n",
    "    mel = np.mean(feature.melspectrogram(y = y, sr = sr).T, axis = 0)\n",
    "    stft = np.abs(librosa.stft(y))\n",
    "    chroma = np.mean(feature.chroma_stft(S = stft, y = y, sr = sr).T, axis = 0)\n",
    "    contrast = np.mean(feature.spectral_contrast(S = stft, y = y, sr = sr).T, axis = 0)\n",
    "    tonnetz =  np.mean(feature.tonnetz(y = librosa.effects.harmonic(y), sr = sr).T, axis = 0)\n",
    "\n",
    "    return mfcc,chroma,mel,contrast,tonnetz # shape: (40,), (12,), (128,), (7,), (6,)"
   ]
  },
  {
   "cell_type": "code",
   "execution_count": 5,
   "metadata": {},
   "outputs": [],
   "source": [
    "def _read_single_predict_file(audiofile_path):\n",
    "    # Instatiate a dataframe the train audio features will be in \n",
    "    columns =  ['mfcc']*40 + ['chroma']*12 + ['mel']*128 + ['contrast']*7 + ['tonnetz']*6\n",
    "    audio_df = pd.DataFrame(columns = columns)\n",
    "    audio_df # 0 rows × 193 columns\n",
    "    mfcc,chroma,mel,contrast,tonnetz = _extract_feat(audiofile_path)\n",
    "    features = np.hstack([mfcc,chroma,mel,contrast,tonnetz])\n",
    "    \n",
    "    # add id in the front of the features array\n",
    "    labelled = np.insert(features, 0, axis = 0)\n",
    "    fill = np.empty((0,193))\n",
    "    row = np.vstack([fill,labelled]) # shape (0,193)\n",
    "    \n",
    "    # put row in a dataframe\n",
    "    row_df = pd.DataFrame(columns = columns)\n",
    "    # append row_df into the dataframe\n",
    "    audio_df = audio_df.append([row_df], ignore_index = True)\n",
    "    \n",
    "    audio_df.reset_index(inplace = True, drop = True)\n",
    "    \n",
    "    return audio_df"
   ]
  },
  {
   "cell_type": "code",
   "execution_count": 6,
   "metadata": {},
   "outputs": [
    {
     "data": {
      "text/plain": [
       "'C:\\\\Users\\\\rujut\\\\Desktop\\\\Sleigh Group'"
      ]
     },
     "execution_count": 6,
     "metadata": {},
     "output_type": "execute_result"
    }
   ],
   "source": [
    "os.getcwd()"
   ]
  },
  {
   "cell_type": "code",
   "execution_count": 7,
   "metadata": {},
   "outputs": [],
   "source": [
    "os.chdir((r'C:\\Users\\rujut\\Desktop\\Sleigh Group'))"
   ]
  },
  {
   "cell_type": "code",
   "execution_count": 8,
   "metadata": {},
   "outputs": [],
   "source": [
    "with open('model_1201.json', 'r',encoding='utf-8') as json_file:\n",
    "    model = model_from_json(json_file.read())"
   ]
  },
  {
   "cell_type": "code",
   "execution_count": 9,
   "metadata": {},
   "outputs": [
    {
     "name": "stdout",
     "output_type": "stream",
     "text": [
      "Loaded model from disk\n"
     ]
    }
   ],
   "source": [
    "# load weights into new model\n",
    "model.load_weights(\"model_weights_1201.h5\")\n",
    "print(\"Loaded model from disk\")"
   ]
  },
  {
   "cell_type": "code",
   "execution_count": 10,
   "metadata": {},
   "outputs": [
    {
     "name": "stdout",
     "output_type": "stream",
     "text": [
      "Done\n"
     ]
    }
   ],
   "source": [
    "print(\"Done\")"
   ]
  },
  {
   "cell_type": "code",
   "execution_count": 11,
   "metadata": {},
   "outputs": [
    {
     "name": "stdout",
     "output_type": "stream",
     "text": [
      "C:/Users/rujut/Desktop/Sleigh Group/Australia/Australia/Adrienne O'Connor/Adrienne O'Connor Calm.wav\n"
     ]
    }
   ],
   "source": [
    "one_example  = \"C:/Users/rujut/Desktop/Sleigh Group/Australia/Australia/Adrienne O'Connor/Adrienne O'Connor Calm.wav\"\n",
    "print(one_example)"
   ]
  },
  {
   "cell_type": "code",
   "execution_count": 12,
   "metadata": {},
   "outputs": [],
   "source": [
    "example_two = \"C:/Users/rujut/Desktop/Sleigh Group/Australia/Australia/Adrienne O'Connor/Adrienne O'Connor Energetic.wav\""
   ]
  },
  {
   "cell_type": "code",
   "execution_count": 13,
   "metadata": {},
   "outputs": [],
   "source": [
    "example_three = \"C:/Users/rujut/Desktop/Sleigh Group/Australia/Australia/Test/rujutavoice.wav\""
   ]
  },
  {
   "cell_type": "code",
   "execution_count": 14,
   "metadata": {},
   "outputs": [],
   "source": [
    "star_list = pd.read_csv(\"vox1_meta.csv\")\n",
    "star_list.head()\n",
    "star_list['ID'] = star_list['VoxCeleb1 ID'].str.slice(start=2)\n",
    "star_list = star_list.sort_values('ID')"
   ]
  },
  {
   "cell_type": "code",
   "execution_count": 15,
   "metadata": {},
   "outputs": [],
   "source": [
    "audiofile_path = one_example"
   ]
  },
  {
   "cell_type": "code",
   "execution_count": 26,
   "metadata": {},
   "outputs": [],
   "source": [
    "def _calculate_possible(audiofile_path):\n",
    "    columns = ['id'] + ['mfcc']*40 + ['chroma']*12 + ['mel']*128 + ['contrast']*7 + ['tonnetz']*6\n",
    "    audio_df = pd.DataFrame(columns = columns)\n",
    "    audio_df # 0 rows × 193 columns\n",
    "    mfcc,chroma,mel,contrast,tonnetz = _extract_feat(audiofile_path)\n",
    "    features = np.hstack([mfcc,chroma,mel,contrast,tonnetz])\n",
    "    labelled = np.insert(features, 0, 0, axis = 0)\n",
    "    fill = np.empty((0,194))\n",
    "    row = np.vstack([fill,labelled]) # shape (1,193)\n",
    "\n",
    "    # Put row in a dataframe\n",
    "    row_df = pd.DataFrame(row, columns = columns)\n",
    "    \n",
    "    # Append row_df into the dataframe\n",
    "    audio_df = audio_df.append(row_df, ignore_index = True)\n",
    "    pred_df = audio_df.drop('id', axis=1)\n",
    "    pred_df_array = pred_df.values \n",
    "    pred_df_ = np.reshape(pred_df_array, newshape = (1, 1,193))\n",
    "    pred_df_array = pred_df.values \n",
    "    pred_df_ = np.reshape(pred_df_array, newshape = (1, 1,193))\n",
    "    \n",
    "    # Use model to predict on testing set\n",
    "    pred_result = model.predict(pred_df_)\n",
    "    \n",
    "    # Convert y_pred from continuous variables to discreet binary (0,1)\n",
    "    yy = []\n",
    "    arr_sorted = -np.sort(-pred_result,axis=1)\n",
    "    top_three = arr_sorted[:,:3]\n",
    "    for elem in pred_result: # each element is an array\n",
    "             \n",
    "        row = []\n",
    "        for e in elem: # each number in the array\n",
    "            if e in top_three[:,:1]: # since softmax outputs probability...\n",
    "                row.append(1) # assign highest prob as 1\n",
    "            elif e in top_three[:,:2]:\n",
    "                row.append(2) # assign second highest prob as 2\n",
    "            elif e in top_three[:,:3]:\n",
    "                row.append(3) # assign third highest prob as 3\n",
    "            else:\n",
    "                row.append(0) # rest all would be 0\n",
    "        yy.append(row)\n",
    "    return yy\n"
   ]
  },
  {
   "cell_type": "code",
   "execution_count": 21,
   "metadata": {},
   "outputs": [],
   "source": [
    "#this returns the top three voices that were nearest but does not consider probability of how close the voice is \n",
    "#def _prediction(check_list, star_list):\n",
    "    #close_star_id = []\n",
    "    #indices = [i for i, x in enumerate(check_list[0]) if x == 1]\n",
    "    #print('indices',indices)\n",
    "    #close_star_id.append(indices) \n",
    "    #return star_list.iloc[close_star_id[0]]"
   ]
  },
  {
   "cell_type": "code",
   "execution_count": 27,
   "metadata": {},
   "outputs": [],
   "source": [
    "#this returns the top three voices that were nearest alongwith the probability of how close the voice is \n",
    "def _prediction(check_list, star_list):\n",
    "    close_star_id1 = check_list[0].index(1)\n",
    "    close_star_id2 = check_list[0].index(2)\n",
    "    close_star_id3 = check_list[0].index(3)\n",
    "    return star_list.iloc[close_star_id1] ,star_list.iloc[close_star_id2],star_list.iloc[close_star_id3]\n",
    "  "
   ]
  },
  {
   "cell_type": "code",
   "execution_count": 28,
   "metadata": {},
   "outputs": [
    {
     "data": {
      "text/plain": [
       "(VoxCeleb1 ID         id10588\n",
       " VGGFace1 ID     Kat_Dennings\n",
       " Gender                     f\n",
       " Nationality              USA\n",
       " Set                      dev\n",
       " ID                     10588\n",
       " Name: 587, dtype: object,\n",
       " VoxCeleb1 ID           id10331\n",
       " VGGFace1 ID     Gemma_Arterton\n",
       " Gender                       f\n",
       " Nationality                 UK\n",
       " Set                        dev\n",
       " ID                       10331\n",
       " Name: 330, dtype: object,\n",
       " VoxCeleb1 ID         id10620\n",
       " VGGFace1 ID     Keeley_Hawes\n",
       " Gender                     f\n",
       " Nationality               UK\n",
       " Set                      dev\n",
       " ID                     10620\n",
       " Name: 619, dtype: object)"
      ]
     },
     "execution_count": 28,
     "metadata": {},
     "output_type": "execute_result"
    }
   ],
   "source": [
    "#making prediction\n",
    "close_star_check = _calculate_possible(audiofile_path)\n",
    "_prediction(close_star_check, star_list)"
   ]
  },
  {
   "cell_type": "code",
   "execution_count": null,
   "metadata": {},
   "outputs": [],
   "source": []
  }
 ],
 "metadata": {
  "kernelspec": {
   "display_name": "Python 3",
   "language": "python",
   "name": "python3"
  },
  "language_info": {
   "codemirror_mode": {
    "name": "ipython",
    "version": 3
   },
   "file_extension": ".py",
   "mimetype": "text/x-python",
   "name": "python",
   "nbconvert_exporter": "python",
   "pygments_lexer": "ipython3",
   "version": "3.6.10"
  }
 },
 "nbformat": 4,
 "nbformat_minor": 4
}
