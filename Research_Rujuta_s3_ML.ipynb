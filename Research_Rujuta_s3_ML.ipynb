{
 "cells": [
  {
   "cell_type": "code",
   "execution_count": 1,
   "metadata": {},
   "outputs": [],
   "source": [
    "import numpy as np\n",
    "import pandas as pd\n",
    "import matplotlib.pyplot as plt\n",
    "from os import listdir\n",
    "import os\n",
    "import librosa\n",
    "from librosa import display,util,load,feature"
   ]
  },
  {
   "cell_type": "code",
   "execution_count": 3,
   "metadata": {},
   "outputs": [
    {
     "name": "stdout",
     "output_type": "stream",
     "text": [
      "Collecting librosa\n",
      "  Using cached librosa-0.8.0.tar.gz (183 kB)\n",
      "Collecting audioread>=2.0.0\n",
      "  Downloading audioread-2.1.9.tar.gz (377 kB)\n",
      "Requirement already satisfied: numpy>=1.15.0 in c:\\users\\rujut\\data science\\lib\\site-packages (from librosa) (1.18.5)\n",
      "Requirement already satisfied: scipy>=1.0.0 in c:\\users\\rujut\\data science\\lib\\site-packages (from librosa) (1.5.2)\n",
      "Requirement already satisfied: scikit-learn!=0.19.0,>=0.14.0 in c:\\users\\rujut\\data science\\lib\\site-packages (from librosa) (0.23.2)\n",
      "Requirement already satisfied: joblib>=0.14 in c:\\users\\rujut\\data science\\lib\\site-packages (from librosa) (0.16.0)\n",
      "Requirement already satisfied: decorator>=3.0.0 in c:\\users\\rujut\\data science\\lib\\site-packages (from librosa) (4.4.2)\n",
      "Collecting resampy>=0.2.2\n",
      "  Using cached resampy-0.2.2.tar.gz (323 kB)\n",
      "Collecting numba>=0.43.0\n",
      "  Downloading numba-0.51.2-cp36-cp36m-win_amd64.whl (2.2 MB)\n",
      "Collecting soundfile>=0.9.0\n",
      "  Using cached SoundFile-0.10.3.post1-py2.py3.cp26.cp27.cp32.cp33.cp34.cp35.cp36.pp27.pp32.pp33-none-win_amd64.whl (689 kB)\n",
      "Collecting pooch>=1.0\n",
      "  Downloading pooch-1.2.0-py3-none-any.whl (47 kB)\n",
      "Requirement already satisfied: threadpoolctl>=2.0.0 in c:\\users\\rujut\\data science\\lib\\site-packages (from scikit-learn!=0.19.0,>=0.14.0->librosa) (2.1.0)\n",
      "Requirement already satisfied: six>=1.3 in c:\\users\\rujut\\data science\\lib\\site-packages (from resampy>=0.2.2->librosa) (1.15.0)\n",
      "Collecting llvmlite<0.35,>=0.34.0.dev0\n",
      "  Downloading llvmlite-0.34.0-cp36-cp36m-win_amd64.whl (15.9 MB)\n",
      "Requirement already satisfied: setuptools in c:\\users\\rujut\\data science\\lib\\site-packages (from numba>=0.43.0->librosa) (50.3.0.post20201006)\n",
      "Requirement already satisfied: cffi>=1.0 in c:\\users\\rujut\\data science\\lib\\site-packages (from soundfile>=0.9.0->librosa) (1.14.3)\n",
      "Collecting appdirs\n",
      "  Using cached appdirs-1.4.4-py2.py3-none-any.whl (9.6 kB)\n",
      "Requirement already satisfied: packaging in c:\\users\\rujut\\data science\\lib\\site-packages (from pooch>=1.0->librosa) (20.4)\n",
      "Requirement already satisfied: requests in c:\\users\\rujut\\data science\\lib\\site-packages (from pooch>=1.0->librosa) (2.24.0)\n",
      "Requirement already satisfied: pycparser in c:\\users\\rujut\\data science\\lib\\site-packages (from cffi>=1.0->soundfile>=0.9.0->librosa) (2.20)\n",
      "Requirement already satisfied: pyparsing>=2.0.2 in c:\\users\\rujut\\data science\\lib\\site-packages (from packaging->pooch>=1.0->librosa) (2.4.7)\n",
      "Requirement already satisfied: urllib3!=1.25.0,!=1.25.1,<1.26,>=1.21.1 in c:\\users\\rujut\\data science\\lib\\site-packages (from requests->pooch>=1.0->librosa) (1.25.9)\n",
      "Requirement already satisfied: idna<3,>=2.5 in c:\\users\\rujut\\data science\\lib\\site-packages (from requests->pooch>=1.0->librosa) (2.10)\n",
      "Requirement already satisfied: chardet<4,>=3.0.2 in c:\\users\\rujut\\data science\\lib\\site-packages (from requests->pooch>=1.0->librosa) (3.0.4)\n",
      "Requirement already satisfied: certifi>=2017.4.17 in c:\\users\\rujut\\data science\\lib\\site-packages (from requests->pooch>=1.0->librosa) (2020.6.20)\n",
      "Building wheels for collected packages: librosa, audioread, resampy\n",
      "  Building wheel for librosa (setup.py): started\n",
      "  Building wheel for librosa (setup.py): finished with status 'done'\n",
      "  Created wheel for librosa: filename=librosa-0.8.0-py3-none-any.whl size=201381 sha256=9c00992be9a2d63441542addb70fdca235c366be270a533eba0e8bf65a13fd0b\n",
      "  Stored in directory: c:\\users\\rujut\\appdata\\local\\pip\\cache\\wheels\\32\\2c\\ce\\86e49d4769aceba728421c24c0d726054bf4ca01175ff42bdd\n",
      "  Building wheel for audioread (setup.py): started\n",
      "  Building wheel for audioread (setup.py): finished with status 'done'\n",
      "  Created wheel for audioread: filename=audioread-2.1.9-py3-none-any.whl size=23146 sha256=aca603e9e4ece7f2336b8bf2396007e585c33af8fa41cf28f5678426c0ea2c86\n",
      "  Stored in directory: c:\\users\\rujut\\appdata\\local\\pip\\cache\\wheels\\de\\14\\0a\\863e4ed680b3204444cf486733e609d7ff7abe8fceafab67dc\n",
      "  Building wheel for resampy (setup.py): started\n",
      "  Building wheel for resampy (setup.py): finished with status 'done'\n",
      "  Created wheel for resampy: filename=resampy-0.2.2-py3-none-any.whl size=320724 sha256=3f466cc578f320be35f4815820f408338256e10242344c670b426482337c3851\n",
      "  Stored in directory: c:\\users\\rujut\\appdata\\local\\pip\\cache\\wheels\\cf\\d4\\04\\49d8824a42bd9f9b11d502727965b9997f0d41d2b22ae4f645\n",
      "Successfully built librosa audioread resampy\n",
      "Installing collected packages: audioread, llvmlite, numba, resampy, soundfile, appdirs, pooch, librosa\n",
      "Successfully installed appdirs-1.4.4 audioread-2.1.9 librosa-0.8.0 llvmlite-0.34.0 numba-0.51.2 pooch-1.2.0 resampy-0.2.2 soundfile-0.10.3.post1\n"
     ]
    }
   ],
   "source": [
    "!pip install librosa"
   ]
  },
  {
   "cell_type": "code",
   "execution_count": 2,
   "metadata": {},
   "outputs": [],
   "source": [
    "from sklearn.neighbors import KNeighborsClassifier\n",
    "from sklearn.model_selection import train_test_split,GridSearchCV\n",
    "from sklearn.pipeline import make_pipeline,Pipeline"
   ]
  },
  {
   "cell_type": "code",
   "execution_count": 3,
   "metadata": {},
   "outputs": [],
   "source": [
    "from sklearn.metrics import roc_auc_score, roc_curve\n",
    "from sklearn.metrics import confusion_matrix\n",
    "from sklearn.metrics import accuracy_score"
   ]
  },
  {
   "cell_type": "code",
   "execution_count": 4,
   "metadata": {},
   "outputs": [],
   "source": [
    "from keras import layers, optimizers\n",
    "from keras.models import model_from_json\n",
    "from keras.models import Sequential, Model\n",
    "from keras.optimizers import Adam, Adamax # sgd\n",
    "from keras.callbacks import EarlyStopping\n",
    "from keras.layers.advanced_activations import LeakyReLU, PReLU\n",
    "from keras.layers import Dense, LSTM, Dropout, Flatten, Input, Conv1D, MaxPooling1D\n",
    "from keras.activations import relu, elu, softmax, selu\n",
    "from sklearn.preprocessing import LabelEncoder\n",
    "from sklearn.metrics import f1_score, precision_score, recall_score, accuracy_score\n",
    "from sklearn.model_selection import train_test_split"
   ]
  },
  {
   "cell_type": "code",
   "execution_count": 6,
   "metadata": {},
   "outputs": [
    {
     "data": {
      "text/plain": [
       "'C:\\\\Users\\\\rujut'"
      ]
     },
     "execution_count": 6,
     "metadata": {},
     "output_type": "execute_result"
    }
   ],
   "source": [
    "os.getcwd()"
   ]
  },
  {
   "cell_type": "code",
   "execution_count": 7,
   "metadata": {},
   "outputs": [],
   "source": [
    "os.chdir((r'C:\\Users\\rujut\\Desktop\\Sleigh Group'))"
   ]
  },
  {
   "cell_type": "code",
   "execution_count": 8,
   "metadata": {},
   "outputs": [],
   "source": [
    "df = pd.read_csv(\"sample_combine2.csv\")"
   ]
  },
  {
   "cell_type": "code",
   "execution_count": 9,
   "metadata": {},
   "outputs": [
    {
     "data": {
      "text/plain": [
       "(1211,)"
      ]
     },
     "execution_count": 9,
     "metadata": {},
     "output_type": "execute_result"
    }
   ],
   "source": [
    "df.id.unique().shape"
   ]
  },
  {
   "cell_type": "code",
   "execution_count": 10,
   "metadata": {},
   "outputs": [
    {
     "data": {
      "text/html": [
       "<div>\n",
       "<style scoped>\n",
       "    .dataframe tbody tr th:only-of-type {\n",
       "        vertical-align: middle;\n",
       "    }\n",
       "\n",
       "    .dataframe tbody tr th {\n",
       "        vertical-align: top;\n",
       "    }\n",
       "\n",
       "    .dataframe thead th {\n",
       "        text-align: right;\n",
       "    }\n",
       "</style>\n",
       "<table border=\"1\" class=\"dataframe\">\n",
       "  <thead>\n",
       "    <tr style=\"text-align: right;\">\n",
       "      <th></th>\n",
       "      <th>id</th>\n",
       "      <th>mfcc</th>\n",
       "      <th>mfcc.1</th>\n",
       "      <th>mfcc.2</th>\n",
       "      <th>mfcc.3</th>\n",
       "      <th>mfcc.4</th>\n",
       "      <th>mfcc.5</th>\n",
       "      <th>mfcc.6</th>\n",
       "      <th>mfcc.7</th>\n",
       "      <th>mfcc.8</th>\n",
       "      <th>...</th>\n",
       "      <th>contrast.3</th>\n",
       "      <th>contrast.4</th>\n",
       "      <th>contrast.5</th>\n",
       "      <th>contrast.6</th>\n",
       "      <th>tonnetz</th>\n",
       "      <th>tonnetz.1</th>\n",
       "      <th>tonnetz.2</th>\n",
       "      <th>tonnetz.3</th>\n",
       "      <th>tonnetz.4</th>\n",
       "      <th>tonnetz.5</th>\n",
       "    </tr>\n",
       "  </thead>\n",
       "  <tbody>\n",
       "    <tr>\n",
       "      <th>0</th>\n",
       "      <td>10118</td>\n",
       "      <td>-273.600494</td>\n",
       "      <td>103.989548</td>\n",
       "      <td>-33.254021</td>\n",
       "      <td>46.472401</td>\n",
       "      <td>-36.957596</td>\n",
       "      <td>7.668534</td>\n",
       "      <td>-26.684517</td>\n",
       "      <td>-21.350235</td>\n",
       "      <td>-2.519242</td>\n",
       "      <td>...</td>\n",
       "      <td>18.374612</td>\n",
       "      <td>20.101481</td>\n",
       "      <td>21.955693</td>\n",
       "      <td>62.391661</td>\n",
       "      <td>0.012897</td>\n",
       "      <td>0.034230</td>\n",
       "      <td>-0.120919</td>\n",
       "      <td>0.076604</td>\n",
       "      <td>-0.035556</td>\n",
       "      <td>-0.015480</td>\n",
       "    </tr>\n",
       "    <tr>\n",
       "      <th>1</th>\n",
       "      <td>10118</td>\n",
       "      <td>-272.701630</td>\n",
       "      <td>105.984398</td>\n",
       "      <td>-47.450043</td>\n",
       "      <td>44.580639</td>\n",
       "      <td>-39.831207</td>\n",
       "      <td>13.744248</td>\n",
       "      <td>-30.243664</td>\n",
       "      <td>-15.632530</td>\n",
       "      <td>-7.305216</td>\n",
       "      <td>...</td>\n",
       "      <td>16.629601</td>\n",
       "      <td>18.645249</td>\n",
       "      <td>19.424802</td>\n",
       "      <td>63.568005</td>\n",
       "      <td>-0.040606</td>\n",
       "      <td>-0.009914</td>\n",
       "      <td>0.073158</td>\n",
       "      <td>0.017044</td>\n",
       "      <td>0.000726</td>\n",
       "      <td>0.023044</td>\n",
       "    </tr>\n",
       "    <tr>\n",
       "      <th>2</th>\n",
       "      <td>10118</td>\n",
       "      <td>-254.748016</td>\n",
       "      <td>98.882637</td>\n",
       "      <td>-27.369404</td>\n",
       "      <td>42.244934</td>\n",
       "      <td>-33.880486</td>\n",
       "      <td>9.336581</td>\n",
       "      <td>-33.618820</td>\n",
       "      <td>-14.017242</td>\n",
       "      <td>-8.014104</td>\n",
       "      <td>...</td>\n",
       "      <td>16.945670</td>\n",
       "      <td>18.159030</td>\n",
       "      <td>18.835621</td>\n",
       "      <td>63.558387</td>\n",
       "      <td>0.008319</td>\n",
       "      <td>0.023324</td>\n",
       "      <td>0.046921</td>\n",
       "      <td>0.034156</td>\n",
       "      <td>-0.002578</td>\n",
       "      <td>0.000598</td>\n",
       "    </tr>\n",
       "    <tr>\n",
       "      <th>3</th>\n",
       "      <td>10118</td>\n",
       "      <td>-281.164032</td>\n",
       "      <td>93.107315</td>\n",
       "      <td>-35.382385</td>\n",
       "      <td>61.903549</td>\n",
       "      <td>-27.928452</td>\n",
       "      <td>15.431595</td>\n",
       "      <td>-30.133783</td>\n",
       "      <td>-18.698492</td>\n",
       "      <td>-2.843096</td>\n",
       "      <td>...</td>\n",
       "      <td>17.165046</td>\n",
       "      <td>19.571505</td>\n",
       "      <td>20.503783</td>\n",
       "      <td>63.006274</td>\n",
       "      <td>0.016291</td>\n",
       "      <td>-0.050295</td>\n",
       "      <td>0.093024</td>\n",
       "      <td>0.153118</td>\n",
       "      <td>0.037379</td>\n",
       "      <td>-0.024679</td>\n",
       "    </tr>\n",
       "    <tr>\n",
       "      <th>4</th>\n",
       "      <td>10118</td>\n",
       "      <td>-280.229126</td>\n",
       "      <td>85.746666</td>\n",
       "      <td>-37.427578</td>\n",
       "      <td>57.026058</td>\n",
       "      <td>-43.526890</td>\n",
       "      <td>19.675930</td>\n",
       "      <td>-35.488728</td>\n",
       "      <td>-10.556077</td>\n",
       "      <td>-10.283919</td>\n",
       "      <td>...</td>\n",
       "      <td>16.542366</td>\n",
       "      <td>18.740579</td>\n",
       "      <td>19.698682</td>\n",
       "      <td>66.071237</td>\n",
       "      <td>0.010619</td>\n",
       "      <td>-0.014958</td>\n",
       "      <td>0.017122</td>\n",
       "      <td>0.070661</td>\n",
       "      <td>0.009914</td>\n",
       "      <td>-0.004792</td>\n",
       "    </tr>\n",
       "  </tbody>\n",
       "</table>\n",
       "<p>5 rows × 194 columns</p>\n",
       "</div>"
      ],
      "text/plain": [
       "      id        mfcc      mfcc.1     mfcc.2     mfcc.3     mfcc.4     mfcc.5  \\\n",
       "0  10118 -273.600494  103.989548 -33.254021  46.472401 -36.957596   7.668534   \n",
       "1  10118 -272.701630  105.984398 -47.450043  44.580639 -39.831207  13.744248   \n",
       "2  10118 -254.748016   98.882637 -27.369404  42.244934 -33.880486   9.336581   \n",
       "3  10118 -281.164032   93.107315 -35.382385  61.903549 -27.928452  15.431595   \n",
       "4  10118 -280.229126   85.746666 -37.427578  57.026058 -43.526890  19.675930   \n",
       "\n",
       "      mfcc.6     mfcc.7     mfcc.8  ...  contrast.3  contrast.4  contrast.5  \\\n",
       "0 -26.684517 -21.350235  -2.519242  ...   18.374612   20.101481   21.955693   \n",
       "1 -30.243664 -15.632530  -7.305216  ...   16.629601   18.645249   19.424802   \n",
       "2 -33.618820 -14.017242  -8.014104  ...   16.945670   18.159030   18.835621   \n",
       "3 -30.133783 -18.698492  -2.843096  ...   17.165046   19.571505   20.503783   \n",
       "4 -35.488728 -10.556077 -10.283919  ...   16.542366   18.740579   19.698682   \n",
       "\n",
       "   contrast.6   tonnetz  tonnetz.1  tonnetz.2  tonnetz.3  tonnetz.4  tonnetz.5  \n",
       "0   62.391661  0.012897   0.034230  -0.120919   0.076604  -0.035556  -0.015480  \n",
       "1   63.568005 -0.040606  -0.009914   0.073158   0.017044   0.000726   0.023044  \n",
       "2   63.558387  0.008319   0.023324   0.046921   0.034156  -0.002578   0.000598  \n",
       "3   63.006274  0.016291  -0.050295   0.093024   0.153118   0.037379  -0.024679  \n",
       "4   66.071237  0.010619  -0.014958   0.017122   0.070661   0.009914  -0.004792  \n",
       "\n",
       "[5 rows x 194 columns]"
      ]
     },
     "execution_count": 10,
     "metadata": {},
     "output_type": "execute_result"
    }
   ],
   "source": [
    "df.head()"
   ]
  },
  {
   "cell_type": "code",
   "execution_count": 11,
   "metadata": {},
   "outputs": [],
   "source": [
    "x = df.drop('id', axis=1)\n",
    "y = df['id']"
   ]
  },
  {
   "cell_type": "code",
   "execution_count": 12,
   "metadata": {},
   "outputs": [
    {
     "name": "stdout",
     "output_type": "stream",
     "text": [
      "              mfcc      mfcc.1     mfcc.2     mfcc.3     mfcc.4     mfcc.5  \\\n",
      "0      -273.600494  103.989548 -33.254021  46.472401 -36.957596   7.668534   \n",
      "1      -272.701630  105.984398 -47.450043  44.580639 -39.831207  13.744248   \n",
      "2      -254.748016   98.882637 -27.369404  42.244934 -33.880486   9.336581   \n",
      "3      -281.164032   93.107315 -35.382385  61.903549 -27.928452  15.431595   \n",
      "4      -280.229126   85.746666 -37.427578  57.026058 -43.526890  19.675930   \n",
      "...            ...         ...        ...        ...        ...        ...   \n",
      "148548 -276.699524  136.624802 -30.104067  56.355434  -9.107129  12.288788   \n",
      "148549 -371.456604  133.546921 -89.245056  28.143431 -40.675251  -2.348424   \n",
      "148550 -376.359222  127.453705 -90.675835  31.803614 -44.774052  -4.925930   \n",
      "148551 -329.837494  144.583969 -22.814005  53.807255 -14.585546  18.426785   \n",
      "148552 -336.411621  150.438873 -19.194506  40.251331 -31.157505  18.909906   \n",
      "\n",
      "           mfcc.6     mfcc.7     mfcc.8     mfcc.9  ...  contrast.3  \\\n",
      "0      -26.684517 -21.350235  -2.519242 -21.116882  ...   18.374612   \n",
      "1      -30.243664 -15.632530  -7.305216 -18.502895  ...   16.629601   \n",
      "2      -33.618820 -14.017242  -8.014104 -20.151463  ...   16.945670   \n",
      "3      -30.133783 -18.698492  -2.843096 -20.489004  ...   17.165046   \n",
      "4      -35.488728 -10.556077 -10.283919 -16.056297  ...   16.542366   \n",
      "...           ...        ...        ...        ...  ...         ...   \n",
      "148548 -45.564087  -1.125760 -23.409180  -9.315265  ...   14.972388   \n",
      "148549 -37.325813  -3.995925 -21.008354  -6.927183  ...   15.877854   \n",
      "148550 -31.909203   1.084278 -16.933500  -5.720705  ...   15.884134   \n",
      "148551 -21.880939   2.900148 -12.792582  -5.976319  ...   16.014526   \n",
      "148552 -23.273689   0.276121 -11.904184  -5.422160  ...   14.924036   \n",
      "\n",
      "        contrast.4  contrast.5  contrast.6   tonnetz  tonnetz.1  tonnetz.2  \\\n",
      "0        20.101481   21.955693   62.391661  0.012897   0.034230  -0.120919   \n",
      "1        18.645249   19.424802   63.568005 -0.040606  -0.009914   0.073158   \n",
      "2        18.159030   18.835621   63.558387  0.008319   0.023324   0.046921   \n",
      "3        19.571505   20.503783   63.006274  0.016291  -0.050295   0.093024   \n",
      "4        18.740579   19.698682   66.071237  0.010619  -0.014958   0.017122   \n",
      "...            ...         ...         ...       ...        ...        ...   \n",
      "148548   17.689545   16.996670   64.596851 -0.015203  -0.027832   0.012950   \n",
      "148549   16.593261   18.875780   65.194253 -0.020865  -0.013784   0.001719   \n",
      "148550   16.088616   19.328625   65.285419  0.008886   0.006780   0.003817   \n",
      "148551   17.484209   17.755011   64.936667 -0.023885  -0.086854  -0.065472   \n",
      "148552   16.589530   17.531549   63.205209 -0.001574  -0.052888   0.000890   \n",
      "\n",
      "        tonnetz.3  tonnetz.4  tonnetz.5  \n",
      "0        0.076604  -0.035556  -0.015480  \n",
      "1        0.017044   0.000726   0.023044  \n",
      "2        0.034156  -0.002578   0.000598  \n",
      "3        0.153118   0.037379  -0.024679  \n",
      "4        0.070661   0.009914  -0.004792  \n",
      "...           ...        ...        ...  \n",
      "148548  -0.009502  -0.008720   0.003529  \n",
      "148549   0.022632   0.000213  -0.010716  \n",
      "148550  -0.011537  -0.001767  -0.011936  \n",
      "148551   0.041588   0.007249   0.004879  \n",
      "148552   0.084235  -0.012609  -0.030062  \n",
      "\n",
      "[148553 rows x 193 columns]\n"
     ]
    }
   ],
   "source": [
    "print(x)"
   ]
  },
  {
   "cell_type": "code",
   "execution_count": 13,
   "metadata": {},
   "outputs": [
    {
     "name": "stdout",
     "output_type": "stream",
     "text": [
      "0         10118\n",
      "1         10118\n",
      "2         10118\n",
      "3         10118\n",
      "4         10118\n",
      "          ...  \n",
      "148548    10814\n",
      "148549    10814\n",
      "148550    10814\n",
      "148551    10814\n",
      "148552    10814\n",
      "Name: id, Length: 148553, dtype: int64\n"
     ]
    }
   ],
   "source": [
    "print(y)"
   ]
  },
  {
   "cell_type": "code",
   "execution_count": 14,
   "metadata": {},
   "outputs": [],
   "source": [
    "# Train, test, split into training and testing\n",
    "x_train1, x_test, y_train1, y_test = train_test_split(x, y, test_size = 0.1, random_state = 121)"
   ]
  },
  {
   "cell_type": "code",
   "execution_count": 15,
   "metadata": {},
   "outputs": [],
   "source": [
    "# Split the training data into training and validation\n",
    "x_train, x_val, y_train, y_val = train_test_split(x_train1, y_train1, test_size = 0.2, random_state = 121)"
   ]
  },
  {
   "cell_type": "code",
   "execution_count": 16,
   "metadata": {},
   "outputs": [
    {
     "data": {
      "text/plain": [
       "(26740, 193)"
      ]
     },
     "execution_count": 16,
     "metadata": {},
     "output_type": "execute_result"
    }
   ],
   "source": [
    "x_val.shape"
   ]
  },
  {
   "cell_type": "code",
   "execution_count": 17,
   "metadata": {},
   "outputs": [
    {
     "data": {
      "text/plain": [
       "(14856, 193)"
      ]
     },
     "execution_count": 17,
     "metadata": {},
     "output_type": "execute_result"
    }
   ],
   "source": [
    "x_test.shape"
   ]
  },
  {
   "cell_type": "code",
   "execution_count": 18,
   "metadata": {},
   "outputs": [
    {
     "data": {
      "text/plain": [
       "(106957, 193)"
      ]
     },
     "execution_count": 18,
     "metadata": {},
     "output_type": "execute_result"
    }
   ],
   "source": [
    "x_train.shape"
   ]
  },
  {
   "cell_type": "code",
   "execution_count": 19,
   "metadata": {},
   "outputs": [
    {
     "data": {
      "text/html": [
       "<div>\n",
       "<style scoped>\n",
       "    .dataframe tbody tr th:only-of-type {\n",
       "        vertical-align: middle;\n",
       "    }\n",
       "\n",
       "    .dataframe tbody tr th {\n",
       "        vertical-align: top;\n",
       "    }\n",
       "\n",
       "    .dataframe thead th {\n",
       "        text-align: right;\n",
       "    }\n",
       "</style>\n",
       "<table border=\"1\" class=\"dataframe\">\n",
       "  <thead>\n",
       "    <tr style=\"text-align: right;\">\n",
       "      <th></th>\n",
       "      <th>mfcc</th>\n",
       "      <th>mfcc.1</th>\n",
       "      <th>mfcc.2</th>\n",
       "      <th>mfcc.3</th>\n",
       "      <th>mfcc.4</th>\n",
       "      <th>mfcc.5</th>\n",
       "      <th>mfcc.6</th>\n",
       "      <th>mfcc.7</th>\n",
       "      <th>mfcc.8</th>\n",
       "      <th>mfcc.9</th>\n",
       "      <th>...</th>\n",
       "      <th>contrast.3</th>\n",
       "      <th>contrast.4</th>\n",
       "      <th>contrast.5</th>\n",
       "      <th>contrast.6</th>\n",
       "      <th>tonnetz</th>\n",
       "      <th>tonnetz.1</th>\n",
       "      <th>tonnetz.2</th>\n",
       "      <th>tonnetz.3</th>\n",
       "      <th>tonnetz.4</th>\n",
       "      <th>tonnetz.5</th>\n",
       "    </tr>\n",
       "  </thead>\n",
       "  <tbody>\n",
       "    <tr>\n",
       "      <th>122479</th>\n",
       "      <td>-111.835106</td>\n",
       "      <td>123.529839</td>\n",
       "      <td>-57.270351</td>\n",
       "      <td>54.344002</td>\n",
       "      <td>-35.500778</td>\n",
       "      <td>-0.112050</td>\n",
       "      <td>-34.001778</td>\n",
       "      <td>3.176709</td>\n",
       "      <td>-16.178476</td>\n",
       "      <td>3.627999</td>\n",
       "      <td>...</td>\n",
       "      <td>18.596113</td>\n",
       "      <td>18.749638</td>\n",
       "      <td>21.911079</td>\n",
       "      <td>68.882176</td>\n",
       "      <td>-0.046061</td>\n",
       "      <td>-0.012110</td>\n",
       "      <td>0.014788</td>\n",
       "      <td>0.055449</td>\n",
       "      <td>-0.016177</td>\n",
       "      <td>0.007080</td>\n",
       "    </tr>\n",
       "    <tr>\n",
       "      <th>89696</th>\n",
       "      <td>-279.739044</td>\n",
       "      <td>159.028107</td>\n",
       "      <td>-6.478727</td>\n",
       "      <td>27.223921</td>\n",
       "      <td>5.381705</td>\n",
       "      <td>-6.302465</td>\n",
       "      <td>-8.855764</td>\n",
       "      <td>1.581423</td>\n",
       "      <td>-5.878119</td>\n",
       "      <td>4.527397</td>\n",
       "      <td>...</td>\n",
       "      <td>17.312557</td>\n",
       "      <td>17.659842</td>\n",
       "      <td>19.857674</td>\n",
       "      <td>55.333804</td>\n",
       "      <td>-0.025748</td>\n",
       "      <td>0.035453</td>\n",
       "      <td>0.137811</td>\n",
       "      <td>0.070776</td>\n",
       "      <td>-0.014212</td>\n",
       "      <td>-0.034011</td>\n",
       "    </tr>\n",
       "    <tr>\n",
       "      <th>6315</th>\n",
       "      <td>-311.175598</td>\n",
       "      <td>129.620682</td>\n",
       "      <td>-30.142984</td>\n",
       "      <td>46.297081</td>\n",
       "      <td>-5.227465</td>\n",
       "      <td>14.518489</td>\n",
       "      <td>-33.710239</td>\n",
       "      <td>-8.294282</td>\n",
       "      <td>-12.262257</td>\n",
       "      <td>-12.805036</td>\n",
       "      <td>...</td>\n",
       "      <td>15.913652</td>\n",
       "      <td>18.771085</td>\n",
       "      <td>17.124063</td>\n",
       "      <td>61.198795</td>\n",
       "      <td>0.027925</td>\n",
       "      <td>-0.013749</td>\n",
       "      <td>-0.048303</td>\n",
       "      <td>-0.004185</td>\n",
       "      <td>-0.000168</td>\n",
       "      <td>-0.005338</td>\n",
       "    </tr>\n",
       "    <tr>\n",
       "      <th>115595</th>\n",
       "      <td>-284.976471</td>\n",
       "      <td>130.115219</td>\n",
       "      <td>-69.154236</td>\n",
       "      <td>49.471706</td>\n",
       "      <td>-12.652008</td>\n",
       "      <td>14.319530</td>\n",
       "      <td>-31.729902</td>\n",
       "      <td>-9.170115</td>\n",
       "      <td>-10.469703</td>\n",
       "      <td>0.124704</td>\n",
       "      <td>...</td>\n",
       "      <td>17.402675</td>\n",
       "      <td>19.949399</td>\n",
       "      <td>21.637098</td>\n",
       "      <td>63.563526</td>\n",
       "      <td>0.041466</td>\n",
       "      <td>0.020593</td>\n",
       "      <td>-0.021872</td>\n",
       "      <td>0.021393</td>\n",
       "      <td>0.005392</td>\n",
       "      <td>0.008102</td>\n",
       "    </tr>\n",
       "    <tr>\n",
       "      <th>112745</th>\n",
       "      <td>-458.117493</td>\n",
       "      <td>138.954895</td>\n",
       "      <td>-6.648188</td>\n",
       "      <td>40.384029</td>\n",
       "      <td>-2.157960</td>\n",
       "      <td>22.178341</td>\n",
       "      <td>-8.865500</td>\n",
       "      <td>5.281638</td>\n",
       "      <td>-12.471731</td>\n",
       "      <td>-4.515971</td>\n",
       "      <td>...</td>\n",
       "      <td>15.986117</td>\n",
       "      <td>17.234774</td>\n",
       "      <td>18.021560</td>\n",
       "      <td>63.373429</td>\n",
       "      <td>0.012017</td>\n",
       "      <td>0.035412</td>\n",
       "      <td>-0.028299</td>\n",
       "      <td>0.022332</td>\n",
       "      <td>0.014092</td>\n",
       "      <td>0.004994</td>\n",
       "    </tr>\n",
       "  </tbody>\n",
       "</table>\n",
       "<p>5 rows × 193 columns</p>\n",
       "</div>"
      ],
      "text/plain": [
       "              mfcc      mfcc.1     mfcc.2     mfcc.3     mfcc.4     mfcc.5  \\\n",
       "122479 -111.835106  123.529839 -57.270351  54.344002 -35.500778  -0.112050   \n",
       "89696  -279.739044  159.028107  -6.478727  27.223921   5.381705  -6.302465   \n",
       "6315   -311.175598  129.620682 -30.142984  46.297081  -5.227465  14.518489   \n",
       "115595 -284.976471  130.115219 -69.154236  49.471706 -12.652008  14.319530   \n",
       "112745 -458.117493  138.954895  -6.648188  40.384029  -2.157960  22.178341   \n",
       "\n",
       "           mfcc.6    mfcc.7     mfcc.8     mfcc.9  ...  contrast.3  \\\n",
       "122479 -34.001778  3.176709 -16.178476   3.627999  ...   18.596113   \n",
       "89696   -8.855764  1.581423  -5.878119   4.527397  ...   17.312557   \n",
       "6315   -33.710239 -8.294282 -12.262257 -12.805036  ...   15.913652   \n",
       "115595 -31.729902 -9.170115 -10.469703   0.124704  ...   17.402675   \n",
       "112745  -8.865500  5.281638 -12.471731  -4.515971  ...   15.986117   \n",
       "\n",
       "        contrast.4  contrast.5  contrast.6   tonnetz  tonnetz.1  tonnetz.2  \\\n",
       "122479   18.749638   21.911079   68.882176 -0.046061  -0.012110   0.014788   \n",
       "89696    17.659842   19.857674   55.333804 -0.025748   0.035453   0.137811   \n",
       "6315     18.771085   17.124063   61.198795  0.027925  -0.013749  -0.048303   \n",
       "115595   19.949399   21.637098   63.563526  0.041466   0.020593  -0.021872   \n",
       "112745   17.234774   18.021560   63.373429  0.012017   0.035412  -0.028299   \n",
       "\n",
       "        tonnetz.3  tonnetz.4  tonnetz.5  \n",
       "122479   0.055449  -0.016177   0.007080  \n",
       "89696    0.070776  -0.014212  -0.034011  \n",
       "6315    -0.004185  -0.000168  -0.005338  \n",
       "115595   0.021393   0.005392   0.008102  \n",
       "112745   0.022332   0.014092   0.004994  \n",
       "\n",
       "[5 rows x 193 columns]"
      ]
     },
     "execution_count": 19,
     "metadata": {},
     "output_type": "execute_result"
    }
   ],
   "source": [
    "x_train.head()"
   ]
  },
  {
   "cell_type": "code",
   "execution_count": 20,
   "metadata": {},
   "outputs": [
    {
     "data": {
      "text/plain": [
       "(106957, 1, 193)"
      ]
     },
     "execution_count": 20,
     "metadata": {},
     "output_type": "execute_result"
    }
   ],
   "source": [
    "#reshape x datasets from 2D into 3D arrays\n",
    "x_train_array = x_train.values # convert df to array\n",
    "x_train_ = np.reshape(x_train_array, newshape = (106957, 1,193))\n",
    "x_train_.shape # (106957, 1, 193)"
   ]
  },
  {
   "cell_type": "code",
   "execution_count": 21,
   "metadata": {},
   "outputs": [
    {
     "data": {
      "text/plain": [
       "(26740, 1, 193)"
      ]
     },
     "execution_count": 21,
     "metadata": {},
     "output_type": "execute_result"
    }
   ],
   "source": [
    "x_val_array = x_val.values # convert df to array\n",
    "x_val_ = np.reshape(x_val_array, newshape = (26740, 1,193))\n",
    "x_val_.shape # (26740, 1,193)"
   ]
  },
  {
   "cell_type": "code",
   "execution_count": 22,
   "metadata": {},
   "outputs": [
    {
     "data": {
      "text/plain": [
       "(14856, 1, 193)"
      ]
     },
     "execution_count": 22,
     "metadata": {},
     "output_type": "execute_result"
    }
   ],
   "source": [
    "x_test_array = x_test.values # convert df to array\n",
    "x_test_ = np.reshape(x_test_array, newshape = (14856, 1, 193))\n",
    "x_test_.shape # (14856, 1, 193)"
   ]
  },
  {
   "cell_type": "code",
   "execution_count": 23,
   "metadata": {},
   "outputs": [
    {
     "data": {
      "text/plain": [
       "(106957, 1211)"
      ]
     },
     "execution_count": 23,
     "metadata": {},
     "output_type": "execute_result"
    }
   ],
   "source": [
    "# reshape y data for last layer in models (softmax activation function)\n",
    "y_train_cat = pd.get_dummies(y_train) # converts variables in one column to have their own column\n",
    "y_train_ = y_train_cat.values \n",
    "y_train_.shape # (106957, 1211)"
   ]
  },
  {
   "cell_type": "code",
   "execution_count": 24,
   "metadata": {},
   "outputs": [
    {
     "data": {
      "text/plain": [
       "Int64Index([10001, 10002, 10003, 10004, 10005, 10006, 10007, 10008, 10009,\n",
       "            10010,\n",
       "            ...\n",
       "            11242, 11243, 11244, 11245, 11246, 11247, 11248, 11249, 11250,\n",
       "            11251],\n",
       "           dtype='int64', length=1211)"
      ]
     },
     "execution_count": 24,
     "metadata": {},
     "output_type": "execute_result"
    }
   ],
   "source": [
    "y_train_cat.columns"
   ]
  },
  {
   "cell_type": "code",
   "execution_count": 25,
   "metadata": {},
   "outputs": [
    {
     "data": {
      "text/plain": [
       "(26740, 1211)"
      ]
     },
     "execution_count": 25,
     "metadata": {},
     "output_type": "execute_result"
    }
   ],
   "source": [
    "y_val_cat = pd.get_dummies(y_val) # converts variables in one column to have their own column\n",
    "y_val_ = y_val_cat.values \n",
    "y_val_.shape  # (26740, 1211)"
   ]
  },
  {
   "cell_type": "code",
   "execution_count": 26,
   "metadata": {},
   "outputs": [
    {
     "data": {
      "text/plain": [
       "(14856, 1208)"
      ]
     },
     "execution_count": 26,
     "metadata": {},
     "output_type": "execute_result"
    }
   ],
   "source": [
    "y_test_cat = pd.get_dummies(y_test) # converts variables in one column to have their own column\n",
    "y_test_ = y_test_cat.values \n",
    "y_test_.shape # (14856, 1208)"
   ]
  },
  {
   "cell_type": "code",
   "execution_count": 27,
   "metadata": {},
   "outputs": [],
   "source": [
    "# Set seed to get same results\n",
    "np.random.seed(121)\n",
    "# Define model as Sequential class\n",
    "model_cnn_selu = Sequential()"
   ]
  },
  {
   "cell_type": "code",
   "execution_count": 28,
   "metadata": {},
   "outputs": [],
   "source": [
    "# Block 1\n",
    "\n",
    "# first layer: convolutional layer with filter size of 2 and strid of 2, due to \n",
    "# the features having shape divisable by 2. selu shown to work better than relu\n",
    "# and leaky relu without CNN.\n",
    "# Max Pool to get only the important features\n",
    "# add dropout to combat overfitting. rate = 10% of neurons to drop\n",
    "\n",
    "model_cnn_selu.add(Conv1D(128, (2), strides=(2), padding='same', input_shape = (1,193), activation= 'selu'))\n",
    "model_cnn_selu.add(MaxPooling1D((2), strides=(2), padding='same'))\n",
    "model_cnn_selu.add(Dropout(rate = 0.1))\n",
    "\n",
    "# Block 2\n",
    "model_cnn_selu.add(Conv1D(256, (2), strides=(2), padding='same', activation= 'selu'))\n",
    "model_cnn_selu.add(MaxPooling1D((2), strides=(2), padding='same'))\n",
    "model_cnn_selu.add(Dropout(rate = 0.1))\n",
    "\n",
    "# Block 3\n",
    "model_cnn_selu.add(Conv1D(256, (2), strides=(2), padding='same', activation= 'selu'))\n",
    "model_cnn_selu.add(Conv1D(512, (2), strides=(2), padding='same',activation= 'selu'))\n",
    "model_cnn_selu.add(MaxPooling1D((2), strides=(2), padding='same'))\n",
    "\n",
    "# Block 4\n",
    "model_cnn_selu.add(Conv1D(512, (2), strides=(2), padding='same', activation= 'selu'))\n",
    "model_cnn_selu.add(MaxPooling1D((2), strides=(2), padding='same'))\n",
    "model_cnn_selu.add(Dropout(rate = 0.1))\n",
    "\n",
    "# Block 5\n",
    "model_cnn_selu.add(Conv1D(512, (2), strides=(2), padding='same',activation= 'selu'))\n",
    "model_cnn_selu.add(MaxPooling1D((2), strides=(2), padding='same'))\n",
    "\n",
    "# Block 7\n",
    "model_cnn_selu.add(Conv1D(256, (2), strides=(2), padding='same', activation= 'selu'))\n",
    "model_cnn_selu.add(MaxPooling1D((2), strides=(2), padding='same'))\n",
    "\n",
    "# Block 8 \n",
    "model_cnn_selu.add(Conv1D(256, (2), strides=(2), padding='same', activation= 'selu'))\n",
    "model_cnn_selu.add(MaxPooling1D((2), strides=(2), padding='same'))\n",
    "model_cnn_selu.add(Dropout(rate = 0.1))\n",
    "\n",
    "# Block 9\n",
    "model_cnn_selu.add(Conv1D(256, (2), strides=(2), padding='same', activation= 'selu'))\n",
    "model_cnn_selu.add(MaxPooling1D((2), strides=(2), padding='same'))\n",
    "\n",
    "# Output Block\n",
    "model_cnn_selu.add(layers.Flatten())\n",
    "model_cnn_selu.add(Dense(1211, activation = 'softmax'))"
   ]
  },
  {
   "cell_type": "code",
   "execution_count": 29,
   "metadata": {},
   "outputs": [],
   "source": [
    "# Compile the model with a specified Adamax optimizer\n",
    "opt = Adamax(lr = 1e-3, decay = 1e-5) # Adamax has shown to yield faster learning than Adam and SGD\n",
    "model_cnn_selu.compile(loss = 'categorical_crossentropy', \n",
    "              optimizer = opt,\n",
    "             metrics = ['accuracy'])"
   ]
  },
  {
   "cell_type": "code",
   "execution_count": 30,
   "metadata": {},
   "outputs": [],
   "source": [
    "\n",
    "# Add automated stopping after val_loss difference from epoch t and t-1 is \n",
    "# more than 0.001; give it three more epochs to try and get back on track (patience)\n",
    "earlystop = EarlyStopping(monitor='val_loss',\n",
    "                              min_delta=0.001,\n",
    "                              patience=3,\n",
    "                              verbose=0, mode='auto')"
   ]
  },
  {
   "cell_type": "code",
   "execution_count": 38,
   "metadata": {},
   "outputs": [
    {
     "name": "stdout",
     "output_type": "stream",
     "text": [
      "Epoch 1/30\n",
      "357/357 [==============================] - 3113s 9s/step - loss: 6.1167 - accuracy: 0.0461 - val_loss: 5.0902 - val_accuracy: 0.1179\n",
      "Epoch 2/30\n",
      "357/357 [==============================] - 184s 514ms/step - loss: 4.7170 - accuracy: 0.1501 - val_loss: 4.2290 - val_accuracy: 0.2125\n",
      "Epoch 3/30\n",
      "357/357 [==============================] - 182s 511ms/step - loss: 4.0805 - accuracy: 0.2230 - val_loss: 3.7323 - val_accuracy: 0.2809\n",
      "Epoch 4/30\n",
      "357/357 [==============================] - 192s 538ms/step - loss: 3.6430 - accuracy: 0.2827 - val_loss: 3.3542 - val_accuracy: 0.3429\n",
      "Epoch 5/30\n",
      "357/357 [==============================] - 215s 602ms/step - loss: 3.2942 - accuracy: 0.3356 - val_loss: 3.0738 - val_accuracy: 0.3908\n",
      "Epoch 6/30\n",
      "357/357 [==============================] - 216s 605ms/step - loss: 3.0078 - accuracy: 0.3827 - val_loss: 2.8673 - val_accuracy: 0.4257\n",
      "Epoch 7/30\n",
      "357/357 [==============================] - 190s 533ms/step - loss: 2.7763 - accuracy: 0.4187 - val_loss: 2.6555 - val_accuracy: 0.4647\n",
      "Epoch 8/30\n",
      "357/357 [==============================] - 187s 524ms/step - loss: 2.5782 - accuracy: 0.4541 - val_loss: 2.5078 - val_accuracy: 0.4938\n",
      "Epoch 9/30\n",
      "357/357 [==============================] - 184s 516ms/step - loss: 2.4039 - accuracy: 0.4835 - val_loss: 2.3776 - val_accuracy: 0.5164\n",
      "Epoch 10/30\n",
      "357/357 [==============================] - 190s 531ms/step - loss: 2.2546 - accuracy: 0.5100 - val_loss: 2.2605 - val_accuracy: 0.5387\n",
      "Epoch 11/30\n",
      "357/357 [==============================] - 191s 536ms/step - loss: 2.1208 - accuracy: 0.5326 - val_loss: 2.1659 - val_accuracy: 0.5586\n",
      "Epoch 12/30\n",
      "357/357 [==============================] - 187s 523ms/step - loss: 2.0022 - accuracy: 0.5533 - val_loss: 2.0950 - val_accuracy: 0.5724\n",
      "Epoch 13/30\n",
      "357/357 [==============================] - 187s 524ms/step - loss: 1.8949 - accuracy: 0.5757 - val_loss: 2.0235 - val_accuracy: 0.5828\n",
      "Epoch 14/30\n",
      "357/357 [==============================] - 186s 522ms/step - loss: 1.8004 - accuracy: 0.5917 - val_loss: 1.9553 - val_accuracy: 0.6011\n",
      "Epoch 15/30\n",
      "357/357 [==============================] - 189s 530ms/step - loss: 1.7063 - accuracy: 0.6110 - val_loss: 1.9074 - val_accuracy: 0.6122\n",
      "Epoch 16/30\n",
      "357/357 [==============================] - 189s 531ms/step - loss: 1.6308 - accuracy: 0.6230 - val_loss: 1.8607 - val_accuracy: 0.6195\n",
      "Epoch 17/30\n",
      "357/357 [==============================] - 187s 523ms/step - loss: 1.5528 - accuracy: 0.6379 - val_loss: 1.8016 - val_accuracy: 0.6329\n",
      "Epoch 18/30\n",
      "357/357 [==============================] - 187s 524ms/step - loss: 1.4872 - accuracy: 0.6502 - val_loss: 1.7815 - val_accuracy: 0.6356\n",
      "Epoch 19/30\n",
      "357/357 [==============================] - 184s 515ms/step - loss: 1.4220 - accuracy: 0.6628 - val_loss: 1.7479 - val_accuracy: 0.6454\n",
      "Epoch 20/30\n",
      "357/357 [==============================] - 189s 528ms/step - loss: 1.3665 - accuracy: 0.6724 - val_loss: 1.7266 - val_accuracy: 0.6513\n",
      "Epoch 21/30\n",
      "357/357 [==============================] - 180s 505ms/step - loss: 1.3070 - accuracy: 0.6864 - val_loss: 1.6861 - val_accuracy: 0.6571\n",
      "Epoch 22/30\n",
      "357/357 [==============================] - 184s 515ms/step - loss: 1.2642 - accuracy: 0.6933 - val_loss: 1.6637 - val_accuracy: 0.6662\n",
      "Epoch 23/30\n",
      "357/357 [==============================] - 191s 534ms/step - loss: 1.2162 - accuracy: 0.7036 - val_loss: 1.6580 - val_accuracy: 0.6665\n",
      "Epoch 24/30\n",
      "357/357 [==============================] - 188s 527ms/step - loss: 1.1693 - accuracy: 0.7120 - val_loss: 1.6345 - val_accuracy: 0.6729\n",
      "Epoch 25/30\n",
      "357/357 [==============================] - 190s 533ms/step - loss: 1.1270 - accuracy: 0.7199 - val_loss: 1.6172 - val_accuracy: 0.6776\n",
      "Epoch 26/30\n",
      "357/357 [==============================] - 183s 512ms/step - loss: 1.0891 - accuracy: 0.7272 - val_loss: 1.6058 - val_accuracy: 0.6790\n",
      "Epoch 27/30\n",
      "357/357 [==============================] - 181s 506ms/step - loss: 1.0461 - accuracy: 0.7357 - val_loss: 1.5838 - val_accuracy: 0.6879\n",
      "Epoch 28/30\n",
      "357/357 [==============================] - 185s 520ms/step - loss: 1.0125 - accuracy: 0.7434 - val_loss: 1.5952 - val_accuracy: 0.6862\n",
      "Epoch 29/30\n",
      "357/357 [==============================] - 187s 524ms/step - loss: 0.9799 - accuracy: 0.7502 - val_loss: 1.5728 - val_accuracy: 0.6933\n",
      "Epoch 30/30\n",
      "357/357 [==============================] - 184s 514ms/step - loss: 0.9455 - accuracy: 0.7565 - val_loss: 1.5735 - val_accuracy: 0.6914\n"
     ]
    }
   ],
   "source": [
    "# fit the data and save it with history variable. Accuracy 0.7565\n",
    "history = model_cnn_selu.fit(x_train_, \n",
    "                    y_train_, \n",
    "                    epochs = 30, \n",
    "                    batch_size = 300,\n",
    "                    validation_data= (x_val_,y_val_), callbacks = [earlystop])"
   ]
  },
  {
   "cell_type": "code",
   "execution_count": 33,
   "metadata": {},
   "outputs": [
    {
     "name": "stdout",
     "output_type": "stream",
     "text": [
      "Epoch 1/100\n",
      "1070/1070 [==============================] - 191s 179ms/step - loss: 0.9340 - accuracy: 0.7526 - val_loss: 1.6015 - val_accuracy: 0.6936\n",
      "Epoch 2/100\n",
      "1070/1070 [==============================] - 198s 185ms/step - loss: 0.8871 - accuracy: 0.7644 - val_loss: 1.6058 - val_accuracy: 0.6965\n",
      "Epoch 3/100\n",
      "1070/1070 [==============================] - 221s 206ms/step - loss: 0.8633 - accuracy: 0.7699 - val_loss: 1.5822 - val_accuracy: 0.7020\n",
      "Epoch 4/100\n",
      "1070/1070 [==============================] - 206s 193ms/step - loss: 0.8375 - accuracy: 0.7746 - val_loss: 1.5890 - val_accuracy: 0.7020\n",
      "Epoch 5/100\n",
      "1070/1070 [==============================] - 209s 195ms/step - loss: 0.8119 - accuracy: 0.7809 - val_loss: 1.5826 - val_accuracy: 0.7064\n",
      "Epoch 6/100\n",
      "1070/1070 [==============================] - 217s 202ms/step - loss: 0.7814 - accuracy: 0.7865 - val_loss: 1.5781 - val_accuracy: 0.7101\n",
      "Epoch 7/100\n",
      "1070/1070 [==============================] - 216s 202ms/step - loss: 0.7615 - accuracy: 0.7932 - val_loss: 1.5749 - val_accuracy: 0.7066\n",
      "Epoch 8/100\n",
      "1070/1070 [==============================] - 213s 199ms/step - loss: 0.7385 - accuracy: 0.7971 - val_loss: 1.5680 - val_accuracy: 0.7098\n",
      "Epoch 9/100\n",
      "1070/1070 [==============================] - 213s 199ms/step - loss: 0.7137 - accuracy: 0.8026 - val_loss: 1.5817 - val_accuracy: 0.7154\n",
      "Epoch 10/100\n",
      "1070/1070 [==============================] - 213s 199ms/step - loss: 0.6939 - accuracy: 0.8067 - val_loss: 1.5483 - val_accuracy: 0.7174\n",
      "Epoch 11/100\n",
      "1070/1070 [==============================] - 212s 198ms/step - loss: 0.6751 - accuracy: 0.8116 - val_loss: 1.5642 - val_accuracy: 0.7176\n",
      "Epoch 12/100\n",
      "1070/1070 [==============================] - 212s 198ms/step - loss: 0.6611 - accuracy: 0.8152 - val_loss: 1.5760 - val_accuracy: 0.7184\n",
      "Epoch 13/100\n",
      "1070/1070 [==============================] - 211s 197ms/step - loss: 0.6393 - accuracy: 0.8201 - val_loss: 1.5584 - val_accuracy: 0.7237\n"
     ]
    }
   ],
   "source": [
    "#Best Model to be saved\n",
    "history = model_cnn_selu.fit(x_train_, \n",
    "                    y_train_, \n",
    "                    epochs = 100, \n",
    "                    batch_size = 100,\n",
    "                    validation_data= (x_val_,y_val_), callbacks = [earlystop])"
   ]
  },
  {
   "cell_type": "code",
   "execution_count": 40,
   "metadata": {},
   "outputs": [
    {
     "name": "stdout",
     "output_type": "stream",
     "text": [
      "Epoch 1/60\n",
      "535/535 [==============================] - 178s 332ms/step - loss: 0.5865 - accuracy: 0.8368 - val_loss: 1.5021 - val_accuracy: 0.7288\n",
      "Epoch 2/60\n",
      "535/535 [==============================] - 184s 344ms/step - loss: 0.6024 - accuracy: 0.8322 - val_loss: 1.4948 - val_accuracy: 0.7240\n",
      "Epoch 3/60\n",
      "535/535 [==============================] - 188s 351ms/step - loss: 0.5924 - accuracy: 0.8331 - val_loss: 1.5200 - val_accuracy: 0.7247\n",
      "Epoch 4/60\n",
      "535/535 [==============================] - 188s 352ms/step - loss: 0.5785 - accuracy: 0.8383 - val_loss: 1.4961 - val_accuracy: 0.7311\n",
      "Epoch 5/60\n",
      "535/535 [==============================] - 192s 358ms/step - loss: 0.5647 - accuracy: 0.8389 - val_loss: 1.5042 - val_accuracy: 0.7313\n"
     ]
    }
   ],
   "source": [
    "history = model_cnn_selu.fit(x_train_, \n",
    "                    y_train_, \n",
    "                    epochs = 60, \n",
    "                    batch_size = 200,\n",
    "                    validation_data= (x_val_,y_val_), callbacks = [earlystop])"
   ]
  },
  {
   "cell_type": "code",
   "execution_count": 32,
   "metadata": {},
   "outputs": [
    {
     "name": "stdout",
     "output_type": "stream",
     "text": [
      "Epoch 1/100\n",
      "535/535 [==============================] - 206s 385ms/step - loss: 2.4298 - accuracy: 0.4764 - val_loss: 2.4272 - val_accuracy: 0.5050\n",
      "Epoch 2/100\n",
      "535/535 [==============================] - 219s 409ms/step - loss: 2.2570 - accuracy: 0.5062 - val_loss: 2.2672 - val_accuracy: 0.5393\n",
      "Epoch 3/100\n",
      "535/535 [==============================] - 224s 418ms/step - loss: 2.1180 - accuracy: 0.5320 - val_loss: 2.1919 - val_accuracy: 0.5547\n",
      "Epoch 4/100\n",
      "535/535 [==============================] - 206s 385ms/step - loss: 1.9993 - accuracy: 0.5537 - val_loss: 2.0947 - val_accuracy: 0.5731\n",
      "Epoch 5/100\n",
      "535/535 [==============================] - 200s 373ms/step - loss: 1.8824 - accuracy: 0.5750 - val_loss: 2.0136 - val_accuracy: 0.5869\n",
      "Epoch 6/100\n",
      "535/535 [==============================] - 200s 373ms/step - loss: 1.7884 - accuracy: 0.5914 - val_loss: 1.9632 - val_accuracy: 0.5994\n",
      "Epoch 7/100\n",
      "535/535 [==============================] - 198s 371ms/step - loss: 1.7062 - accuracy: 0.6069 - val_loss: 1.9070 - val_accuracy: 0.6089\n",
      "Epoch 8/100\n",
      "535/535 [==============================] - 207s 387ms/step - loss: 1.6179 - accuracy: 0.6227 - val_loss: 1.8709 - val_accuracy: 0.6192\n",
      "Epoch 9/100\n",
      "535/535 [==============================] - 200s 373ms/step - loss: 1.5427 - accuracy: 0.6376 - val_loss: 1.8157 - val_accuracy: 0.6310\n",
      "Epoch 10/100\n",
      "535/535 [==============================] - 194s 363ms/step - loss: 1.4748 - accuracy: 0.6500 - val_loss: 1.7928 - val_accuracy: 0.6383\n",
      "Epoch 11/100\n",
      "535/535 [==============================] - 194s 363ms/step - loss: 1.4074 - accuracy: 0.6640 - val_loss: 1.7547 - val_accuracy: 0.6476\n",
      "Epoch 12/100\n",
      "535/535 [==============================] - 193s 361ms/step - loss: 1.3533 - accuracy: 0.6743 - val_loss: 1.7159 - val_accuracy: 0.6560\n",
      "Epoch 13/100\n",
      "535/535 [==============================] - 201s 375ms/step - loss: 1.2931 - accuracy: 0.6856 - val_loss: 1.7010 - val_accuracy: 0.6601\n",
      "Epoch 14/100\n",
      "535/535 [==============================] - 204s 382ms/step - loss: 1.2454 - accuracy: 0.6949 - val_loss: 1.6635 - val_accuracy: 0.6667\n",
      "Epoch 15/100\n",
      "535/535 [==============================] - 201s 376ms/step - loss: 1.1970 - accuracy: 0.7043 - val_loss: 1.6644 - val_accuracy: 0.6685\n",
      "Epoch 16/100\n",
      "535/535 [==============================] - 187s 350ms/step - loss: 1.1479 - accuracy: 0.7128 - val_loss: 1.6577 - val_accuracy: 0.6750\n",
      "Epoch 17/100\n",
      "535/535 [==============================] - 189s 354ms/step - loss: 1.1121 - accuracy: 0.7207 - val_loss: 1.6403 - val_accuracy: 0.6781\n",
      "Epoch 18/100\n",
      "535/535 [==============================] - 188s 352ms/step - loss: 1.0690 - accuracy: 0.7290 - val_loss: 1.6155 - val_accuracy: 0.6859\n",
      "Epoch 19/100\n",
      "535/535 [==============================] - 186s 348ms/step - loss: 1.0289 - accuracy: 0.7382 - val_loss: 1.6226 - val_accuracy: 0.6830\n",
      "Epoch 20/100\n",
      "535/535 [==============================] - 189s 353ms/step - loss: 0.9989 - accuracy: 0.7429 - val_loss: 1.6013 - val_accuracy: 0.6901\n",
      "Epoch 21/100\n",
      "535/535 [==============================] - 188s 351ms/step - loss: 0.9641 - accuracy: 0.7493 - val_loss: 1.5794 - val_accuracy: 0.6958\n",
      "Epoch 22/100\n",
      "535/535 [==============================] - 188s 351ms/step - loss: 0.9345 - accuracy: 0.7562 - val_loss: 1.5588 - val_accuracy: 0.7002\n",
      "Epoch 23/100\n",
      "535/535 [==============================] - 187s 350ms/step - loss: 0.9019 - accuracy: 0.7631 - val_loss: 1.5939 - val_accuracy: 0.6947\n",
      "Epoch 24/100\n",
      "535/535 [==============================] - 186s 348ms/step - loss: 0.8696 - accuracy: 0.7694 - val_loss: 1.5867 - val_accuracy: 0.6981\n",
      "Epoch 25/100\n",
      "535/535 [==============================] - 187s 349ms/step - loss: 0.8542 - accuracy: 0.7743 - val_loss: 1.5604 - val_accuracy: 0.7048\n"
     ]
    }
   ],
   "source": [
    "history = model_cnn_selu.fit(x_train_, \n",
    "                    y_train_, \n",
    "                    epochs = 100, \n",
    "                    batch_size = 200,\n",
    "                    validation_data= (x_val_,y_val_), callbacks = [earlystop])"
   ]
  },
  {
   "cell_type": "code",
   "execution_count": 46,
   "metadata": {},
   "outputs": [
    {
     "name": "stdout",
     "output_type": "stream",
     "text": [
      "2.3.1\n"
     ]
    }
   ],
   "source": [
    "print(tf.__version__)"
   ]
  },
  {
   "cell_type": "code",
   "execution_count": 45,
   "metadata": {},
   "outputs": [],
   "source": [
    "import tensorflow as tf"
   ]
  },
  {
   "cell_type": "code",
   "execution_count": 47,
   "metadata": {},
   "outputs": [
    {
     "name": "stdout",
     "output_type": "stream",
     "text": [
      "2.4.3\n"
     ]
    }
   ],
   "source": [
    "import keras as k\n",
    "print(k.__version__)"
   ]
  },
  {
   "cell_type": "code",
   "execution_count": 34,
   "metadata": {},
   "outputs": [
    {
     "name": "stdout",
     "output_type": "stream",
     "text": [
      "Saved model to drive\n"
     ]
    }
   ],
   "source": [
    "# Save best model so don't have to rerun in scenario of crash\n",
    "model_json = model_cnn_selu.to_json()\n",
    "with open(\"model_1201.json\", \"w\") as json_file:\n",
    "    json_file.write(model_json)\n",
    "    \n",
    "model_cnn_selu.save_weights(\"model_weights_1201.h5\")\n",
    "print(\"Saved model to drive\")"
   ]
  },
  {
   "cell_type": "code",
   "execution_count": 35,
   "metadata": {},
   "outputs": [],
   "source": [
    "# Use model to predict on testing set\n",
    "y_pred = model_cnn_selu.predict(x_test_)"
   ]
  },
  {
   "cell_type": "code",
   "execution_count": 36,
   "metadata": {},
   "outputs": [
    {
     "data": {
      "text/plain": [
       "array([2.6121163e-09, 4.3498733e-07, 9.1678658e-07, ..., 2.8244358e-09,\n",
       "       4.4911015e-12, 3.8307621e-11], dtype=float32)"
      ]
     },
     "execution_count": 36,
     "metadata": {},
     "output_type": "execute_result"
    }
   ],
   "source": [
    "y_pred[0]"
   ]
  },
  {
   "cell_type": "code",
   "execution_count": 37,
   "metadata": {},
   "outputs": [],
   "source": [
    "# Convert y_pred from continuous variables to discreet binary (0,1)\n",
    "yy = []\n",
    "for elem in y_pred: # each element is an array\n",
    "    row = []\n",
    "    for e in elem: # each number in the array\n",
    "        if e == elem.max(): # since softmax outputs probability...\n",
    "            row.append(1) # assign highest prob as 1\n",
    "        else:\n",
    "            row.append(0) # assign all other probs as 0\n",
    "    yy.append(row)"
   ]
  },
  {
   "cell_type": "code",
   "execution_count": 38,
   "metadata": {},
   "outputs": [],
   "source": [
    "y_pred_ = np.array(yy)"
   ]
  },
  {
   "cell_type": "code",
   "execution_count": 39,
   "metadata": {},
   "outputs": [
    {
     "data": {
      "text/plain": [
       "1211"
      ]
     },
     "execution_count": 39,
     "metadata": {},
     "output_type": "execute_result"
    }
   ],
   "source": [
    "len(y_pred_[0])"
   ]
  },
  {
   "cell_type": "code",
   "execution_count": 40,
   "metadata": {},
   "outputs": [
    {
     "data": {
      "text/plain": [
       "1208"
      ]
     },
     "execution_count": 40,
     "metadata": {},
     "output_type": "execute_result"
    }
   ],
   "source": [
    "len(y_test_[0])"
   ]
  },
  {
   "cell_type": "code",
   "execution_count": null,
   "metadata": {},
   "outputs": [],
   "source": []
  }
 ],
 "metadata": {
  "kernelspec": {
   "display_name": "Python 3",
   "language": "python",
   "name": "python3"
  },
  "language_info": {
   "codemirror_mode": {
    "name": "ipython",
    "version": 3
   },
   "file_extension": ".py",
   "mimetype": "text/x-python",
   "name": "python",
   "nbconvert_exporter": "python",
   "pygments_lexer": "ipython3",
   "version": "3.6.10"
  }
 },
 "nbformat": 4,
 "nbformat_minor": 4
}
